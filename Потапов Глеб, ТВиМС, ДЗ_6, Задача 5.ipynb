{
 "cells": [
  {
   "cell_type": "markdown",
   "id": "a9f2e033",
   "metadata": {},
   "source": [
    "# Потапов Глеб, ТВиМС, ДЗ_6, Задача 5"
   ]
  },
  {
   "cell_type": "code",
   "execution_count": 1,
   "id": "50453ef8",
   "metadata": {},
   "outputs": [],
   "source": [
    "import numpy as np"
   ]
  },
  {
   "cell_type": "markdown",
   "id": "ff34e11b",
   "metadata": {},
   "source": [
    "Чтобы получить случайное число, нам нужна функция random из модуля NumPy"
   ]
  },
  {
   "cell_type": "markdown",
   "id": "c9f77182",
   "metadata": {},
   "source": [
    "Сгенерируем случайные величины"
   ]
  },
  {
   "cell_type": "code",
   "execution_count": 2,
   "id": "90e28d68",
   "metadata": {},
   "outputs": [],
   "source": [
    "np.random.seed()\n",
    "## uniform - это равномерное распределение\n",
    "X = np.random.uniform(low = 0, high = 2 * np.pi, size = 5000)\n",
    "## exponential - это экспоненциальное (показательное) распределение\n",
    "Y = np.random.exponential(scale = 1, size = 5000)\n",
    "\n",
    "## Теперь построим величины Z_1 и Z_2\n",
    "Z_1 = ((2 * Y) ** (1 / 2)) * np.sin(X)\n",
    "Z_2 = ((2 * Y) ** (1 / 2)) * np.cos(X)"
   ]
  },
  {
   "cell_type": "markdown",
   "id": "9b13d427",
   "metadata": {},
   "source": [
    "# Задача 5а"
   ]
  },
  {
   "cell_type": "markdown",
   "id": "d3760bac",
   "metadata": {},
   "source": [
    "Построить гистограммы для Z_1 и Z_2"
   ]
  },
  {
   "cell_type": "code",
   "execution_count": 3,
   "id": "4297f6a0",
   "metadata": {},
   "outputs": [
    {
     "data": {
      "image/png": "[encoded data removed]",
      "text/plain": [
       "<Figure size 720x360 with 2 Axes>"
      ]
     },
     "metadata": {
      "needs_background": "light"
     },
     "output_type": "display_data"
    }
   ],
   "source": [
    "import matplotlib\n",
    "import matplotlib.pyplot as plt\n",
    "\n",
    "fig, (z_1, z_2) = plt.subplots(nrows = 1, ncols = 2, figsize = (10, 5), tight_layout = True)\n",
    "\n",
    "z_1.hist(Z_1)\n",
    "z_2.hist(Z_2)\n",
    "\n",
    "z_1.set_title('Гистограмма для Z_1')\n",
    "z_2.set_title('Гистограмма для Z_2')\n",
    "\n",
    "plt.show()"
   ]
  },
  {
   "cell_type": "markdown",
   "id": "b76dc21f",
   "metadata": {},
   "source": [
    "# Задача 5б"
   ]
  },
  {
   "cell_type": "markdown",
   "id": "828659ec",
   "metadata": {},
   "source": [
    "Вычислить 1-ый, 2-ой, 3-ий и 4-ый моменты у получившихся выборок"
   ]
  },
  {
   "cell_type": "code",
   "execution_count": 4,
   "id": "4e429f36",
   "metadata": {},
   "outputs": [
    {
     "name": "stdout",
     "output_type": "stream",
     "text": [
      "Z_1_1 =  0.0\n",
      "Z_1_2 =  1.0068564514601344\n",
      "Z_1_3 =  0.00878477032677544\n",
      "Z_1_4 =  3.017844702771601\n",
      "Z_2_1 =  0.0\n",
      "Z_2_2 =  1.0186314403274506\n",
      "Z_2_3 =  -0.033622404698216785\n",
      "Z_2_4 =  3.1766292841855566\n"
     ]
    }
   ],
   "source": [
    "from scipy.stats import moment\n",
    "\n",
    "Z_1_1 = moment(Z_1, moment = 1)\n",
    "Z_1_2 = moment(Z_1, moment = 2)\n",
    "Z_1_3 = moment(Z_1, moment = 3)\n",
    "Z_1_4 = moment(Z_1, moment = 4)\n",
    "\n",
    "Z_2_1 = moment(Z_2, moment = 1)\n",
    "Z_2_2 = moment(Z_2, moment = 2)\n",
    "Z_2_3 = moment(Z_2, moment = 3)\n",
    "Z_2_4 = moment(Z_2, moment = 4)\n",
    "\n",
    "print('Z_1_1 = ', Z_1_1)\n",
    "print('Z_1_2 = ', Z_1_2)\n",
    "print('Z_1_3 = ', Z_1_3)\n",
    "print('Z_1_4 = ', Z_1_4)\n",
    "\n",
    "print('Z_2_1 = ', Z_2_1)\n",
    "print('Z_2_2 = ', Z_2_2)\n",
    "print('Z_2_3 = ', Z_2_3)\n",
    "print('Z_2_4 = ', Z_2_4)"
   ]
  },
  {
   "cell_type": "markdown",
   "id": "5bf5a523",
   "metadata": {},
   "source": [
    "# Задача 5c"
   ]
  },
  {
   "cell_type": "markdown",
   "id": "b0ef47c8",
   "metadata": {},
   "source": [
    "Найти выборочный коэффициент корреляции Z_1 и Z_2"
   ]
  },
  {
   "cell_type": "code",
   "execution_count": 5,
   "id": "c94d27c8",
   "metadata": {},
   "outputs": [
    {
     "name": "stdout",
     "output_type": "stream",
     "text": [
      "r =  0.012919552301969593\n"
     ]
    }
   ],
   "source": [
    "## r - это выборочный коэффициент корреляции Z_1 и Z_2\n",
    "r = np.corrcoef(Z_1, Z_2)\n",
    "\n",
    "print(\"r = \", r[0, 1])"
   ]
  }
 ],
 "metadata": {
  "kernelspec": {
   "display_name": "Python 3 (ipykernel)",
   "language": "python",
   "name": "python3"
  },
  "language_info": {
   "codemirror_mode": {
    "name": "ipython",
    "version": 3
   },
   "file_extension": ".py",
   "mimetype": "text/x-python",
   "name": "python",
   "nbconvert_exporter": "python",
   "pygments_lexer": "ipython3",
   "version": "3.9.12"
  }
 },
 "nbformat": 4,
 "nbformat_minor": 5
}
